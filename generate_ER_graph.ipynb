{
 "cells": [
  {
   "cell_type": "markdown",
   "metadata": {},
   "source": [
    "## Generating ER random graph\n",
    "\n",
    "Zeqian Li\n",
    "\n",
    "Dec 10, 2019"
   ]
  },
  {
   "cell_type": "code",
   "execution_count": 1,
   "metadata": {},
   "outputs": [],
   "source": [
    "import numpy as np\n",
    "import matplotlib.pyplot as plt"
   ]
  },
  {
   "cell_type": "code",
   "execution_count": 5,
   "metadata": {},
   "outputs": [],
   "source": [
    "N=100\n",
    "E=500\n",
    "\n",
    "_hash=np.random.choice(N*N,size=E,replace=False)\n",
    "\n",
    "edges=np.array(list(zip(np.floor(_hash/N),_hash % N))).astype(int)\n",
    "\n",
    "# print(edges)\n",
    "with open(\"data/er\",'w+') as f:\n",
    "    np.savetxt(f,edges,fmt=\"%d\")\n"
   ]
  },
  {
   "cell_type": "code",
   "execution_count": null,
   "metadata": {},
   "outputs": [],
   "source": []
  }
 ],
 "metadata": {
  "kernelspec": {
   "display_name": "Python 3",
   "language": "python",
   "name": "python3"
  },
  "language_info": {
   "codemirror_mode": {
    "name": "ipython",
    "version": 3
   },
   "file_extension": ".py",
   "mimetype": "text/x-python",
   "name": "python",
   "nbconvert_exporter": "python",
   "pygments_lexer": "ipython3",
   "version": "3.7.5"
  }
 },
 "nbformat": 4,
 "nbformat_minor": 4
}
