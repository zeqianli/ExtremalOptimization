{
 "cells": [
  {
   "cell_type": "markdown",
   "metadata": {},
   "source": [
    "## Debugging CP-Decomposition"
   ]
  },
  {
   "cell_type": "code",
   "execution_count": 1,
   "metadata": {},
   "outputs": [],
   "source": [
    "%load_ext autoreload\n",
    "%autoreload 2\n",
    "import numpy as np\n",
    "import matplotlib.pyplot as plt"
   ]
  },
  {
   "cell_type": "markdown",
   "metadata": {},
   "source": [
    "### Debug basics"
   ]
  },
  {
   "cell_type": "code",
   "execution_count": 2,
   "metadata": {},
   "outputs": [],
   "source": [
    "from heuristic_problems import CPDecomposition\n",
    "from convex_optimizers import GradientDescent\n",
    "\n",
    "T=np.arange(24).reshape((2,3,4))\n",
    "optimizer=GradientDescent()\n",
    "cpd=CPDecomposition(T,2,optimizer)\n"
   ]
  },
  {
   "cell_type": "markdown",
   "metadata": {},
   "source": [
    "### Debug gradient descent"
   ]
  },
  {
   "cell_type": "code",
   "execution_count": 30,
   "metadata": {
    "jupyter": {
     "source_hidden": true
    }
   },
   "outputs": [
    {
     "name": "stdout",
     "output_type": "stream",
     "text": [
      "0.7071067811865475\n"
     ]
    },
    {
     "data": {
      "image/png": "[encoded data removed]",
      "text/plain": [
       "<Figure size 432x288 with 1 Axes>"
      ]
     },
     "metadata": {
      "needs_background": "light"
     },
     "output_type": "display_data"
    }
   ],
   "source": [
    "f=lambda x: x**4-x**2\n",
    "df=lambda x: 4*(x**3)-2*x\n",
    "xs=np.linspace(-1,1,100)\n",
    "x_optimal=1/np.sqrt(2)\n",
    "print(x_optimal)\n",
    "plt.plot(xs,f(xs))\n",
    "plt.show()"
   ]
  },
  {
   "cell_type": "code",
   "execution_count": 68,
   "metadata": {
    "collapsed": true,
    "jupyter": {
     "outputs_hidden": true,
     "source_hidden": true
    }
   },
   "outputs": [
    {
     "name": "stdout",
     "output_type": "stream",
     "text": [
      "i=0, x=-0.00632\n",
      "i=100, x=-0.04571\n",
      "i=200, x=-0.30110\n",
      "i=300, x=-0.68038\n",
      "i=400, x=-0.70663\n",
      "i=500, x=-0.70710\n",
      "i=600, x=-0.70711\n",
      "i=700, x=-0.70711\n",
      "i=800, x=-0.70711\n",
      "i=900, x=-0.70711\n",
      "-0.7071067811865359\n"
     ]
    }
   ],
   "source": [
    "optimizer=GradientDescent(learning_rate=1E-2,max_iteration=1000)\n",
    "x_init=np.random.rand()*0.1-0.05\n",
    "x_final=optimizer.optimize(x_init,df,inspect=100)\n",
    "print(x_final)"
   ]
  },
  {
   "cell_type": "markdown",
   "metadata": {},
   "source": [
    "### Debug gradients"
   ]
  },
  {
   "cell_type": "code",
   "execution_count": 20,
   "metadata": {
    "jupyter": {
     "source_hidden": true
    }
   },
   "outputs": [
    {
     "name": "stdout",
     "output_type": "stream",
     "text": [
      "Avg: 0.00000\n",
      "Max: 0.03182\n"
     ]
    }
   ],
   "source": [
    "n_trial=10000\n",
    "optimizer=GradientDescent()\n",
    "cpd=CPDecomposition(T,2,optimizer,scale_resample=1E-6)\n",
    "\n",
    "errors=[]\n",
    "\n",
    "for i in range(n_trial):\n",
    "    cpd._randomize_vectors(k=None)\n",
    "    cpd.Us=cpd._calculate_Us()\n",
    "    cpd.T_approximate=cpd._calculate_T_approximate()\n",
    "    cpd.energy=cpd.calculate_energy()\n",
    "    \n",
    "    v1=cpd._flatten_vectors(cpd.vectors)\n",
    "    e1=cpd.energy\n",
    "    grads=cpd._gradients(v1)\n",
    "    \n",
    "    cpd._randomize_vectors(k=np.random.randint(cpd.K))\n",
    "    cpd.Us=cpd._calculate_Us()\n",
    "    cpd.T_approximate=cpd._calculate_T_approximate()\n",
    "    cpd.energy=cpd.calculate_energy()\n",
    "    \n",
    "    v2=cpd._flatten_vectors(cpd.vectors)\n",
    "    e2=cpd.energy\n",
    "    \n",
    "    errors.append((np.dot(grads,v2-v1)-(e2-e1))/(e2-e1))\n",
    "    \n",
    "print(\"Avg: %.5f\" % np.average(errors))\n",
    "print(\"Max: %.5f\" % np.array(np.abs(errors)).max())\n",
    "\n",
    "    \n",
    "    \n",
    "    "
   ]
  },
  {
   "cell_type": "markdown",
   "metadata": {},
   "source": [
    "### Debug local step"
   ]
  },
  {
   "cell_type": "code",
   "execution_count": 110,
   "metadata": {},
   "outputs": [
    {
     "name": "stdout",
     "output_type": "stream",
     "text": [
      "1\n",
      "4240.358792150458 4.613344217719843\n"
     ]
    }
   ],
   "source": [
    "T=np.arange(24).reshape((2,3,4))\n",
    "optimizer=GradientDescent(learning_rate=1E-3,max_iteration=1000)\n",
    "cpd=CPDecomposition(T,2,optimizer,scale_resample=1E-5)\n",
    "\n",
    "v1,e1=cpd.vectors, cpd.energy\n",
    "\n",
    "# v_optimized=cpd.optimizer.optimize(cpd._flatten_vectors(cpd.vectors),lambda _: cpd._gradients(_,recalculate_T_approximate=True))\n",
    "# cpd.vectors=cpd._deflatten_vectors(v_optimized)\n",
    "        \n",
    "# # cpd._randomize_vectors(k=step.k)\n",
    "# cpd.Us=cpd._calculate_Us()\n",
    "# cpd.T_approximate=cpd._calculate_T_approximate()\n",
    "# cpd.energy=cpd.calculate_energy()\n",
    "steps, es=cpd.get_local_step_candidates()\n",
    "step=np.random.choice(steps)\n",
    "print(step.k)\n",
    "cpd.make_local_step(step)\n",
    "\n",
    "v2,e2=cpd.vectors, cpd.energy\n",
    "\n",
    "print(e1,e2)"
   ]
  },
  {
   "cell_type": "markdown",
   "metadata": {},
   "source": [
    "### Quick implementation of extremal optimization"
   ]
  },
  {
   "cell_type": "code",
   "execution_count": 143,
   "metadata": {},
   "outputs": [
    {
     "name": "stdout",
     "output_type": "stream",
     "text": [
      "180673.05086671517\n",
      "i=0, e=7572.65738, step=2\n",
      "i=10, e=7281.09118, step=1\n",
      "i=20, e=7605.82176, step=0\n",
      "i=30, e=7516.86000, step=1\n",
      "i=40, e=7299.06683, step=1\n",
      "i=50, e=7385.27987, step=1\n",
      "i=60, e=7315.23679, step=1\n",
      "i=70, e=7641.33608, step=2\n",
      "i=80, e=7543.38256, step=2\n",
      "i=90, e=7461.18836, step=1\n"
     ]
    },
    {
     "data": {
      "image/png": "[encoded data removed]",
      "text/plain": [
       "<Figure size 432x288 with 1 Axes>"
      ]
     },
     "metadata": {
      "needs_background": "light"
     },
     "output_type": "display_data"
    }
   ],
   "source": [
    "T=np.random.randint(10,size=(10,10,10))\n",
    "optimizer=GradientDescent(learning_rate=1E-5,max_iteration=1000)\n",
    "cpd=CPDecomposition(T,3,optimizer,scale_initial=2,scale_resample=2)\n",
    "print(cpd.energy)\n",
    "n_iteration=100\n",
    "inspect=int(n_iteration/10)\n",
    "tau=1\n",
    "\n",
    "es=[]\n",
    "for i in range(n_iteration):\n",
    "    \n",
    "\n",
    "\n",
    "    steps, energies=cpd.get_local_step_candidates()\n",
    "    from scipy.stats import rankdata\n",
    "    rank=rankdata(energies)\n",
    "    ps=rank**(-tau)\n",
    "    ps/=np.sum(ps)\n",
    "    \n",
    "    step=np.random.choice(steps,p=ps)\n",
    "    \n",
    "    cpd.make_local_step(step)\n",
    "    \n",
    "    es.append(cpd.energy)\n",
    "    if i % inspect==0:\n",
    "        print(\"i=%d, e=%.5f, step=%d\" % (i,cpd.energy,step.k))\n",
    "        \n",
    "\n",
    "\n",
    "plt.plot(np.arange(len(es)),es)\n",
    "plt.show()"
   ]
  },
  {
   "cell_type": "markdown",
   "metadata": {},
   "source": [
    "### Misc"
   ]
  },
  {
   "cell_type": "code",
   "execution_count": 8,
   "metadata": {
    "collapsed": true,
    "jupyter": {
     "outputs_hidden": true
    }
   },
   "outputs": [
    {
     "name": "stdout",
     "output_type": "stream",
     "text": [
      "[[[ 1  2  3  4]\n",
      "  [ 2  4  6  8]\n",
      "  [ 3  6  9 12]]\n",
      "\n",
      " [[ 2  4  6  8]\n",
      "  [ 4  8 12 16]\n",
      "  [ 6 12 18 24]]]\n"
     ]
    }
   ],
   "source": [
    "a=np.arange(2)+1\n",
    "b=np.arange(3)+1\n",
    "c=np.arange(4)+1\n",
    "\n",
    "print(np.prod(np.ix_(a,b,c)))"
   ]
  },
  {
   "cell_type": "code",
   "execution_count": 6,
   "metadata": {
    "collapsed": true,
    "jupyter": {
     "outputs_hidden": true
    }
   },
   "outputs": [
    {
     "name": "stdout",
     "output_type": "stream",
     "text": [
      "[120. 120.]\n"
     ]
    },
    {
     "data": {
      "text/plain": [
       "(0, 1, 0)"
      ]
     },
     "execution_count": 6,
     "metadata": {},
     "output_type": "execute_result"
    }
   ],
   "source": [
    "a=np.arange(24).reshape(2,3,4)+1\n",
    "b=10/a\n",
    "\n",
    "s=np.einsum(a,[0,1,2],b,[0,1,2],[0])\n",
    "\n",
    "print(s)\n",
    "\n",
    "list(range(10))\n",
    "\n",
    "c=(0,1,2)\n",
    "(*c[:-1],0)"
   ]
  },
  {
   "cell_type": "markdown",
   "metadata": {},
   "source": [
    "## "
   ]
  }
 ],
 "metadata": {
  "file_extension": ".py",
  "kernelspec": {
   "display_name": "Python 3",
   "language": "python",
   "name": "python3"
  },
  "language_info": {
   "codemirror_mode": {
    "name": "ipython",
    "version": 3
   },
   "file_extension": ".py",
   "mimetype": "text/x-python",
   "name": "python",
   "nbconvert_exporter": "python",
   "pygments_lexer": "ipython3",
   "version": "3.7.5"
  },
  "mimetype": "text/x-python",
  "name": "python",
  "npconvert_exporter": "python",
  "pygments_lexer": "ipython3",
  "version": 3
 },
 "nbformat": 4,
 "nbformat_minor": 4
}
