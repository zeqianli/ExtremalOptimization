{
 "cells": [
  {
   "cell_type": "markdown",
   "metadata": {},
   "source": [
    "## Debuging FAS"
   ]
  },
  {
   "cell_type": "code",
   "execution_count": 1,
   "metadata": {},
   "outputs": [],
   "source": [
    "%load_ext autoreload\n",
    "%autoreload 2\n",
    "import numpy as np\n",
    "import matplotlib.pyplot as plt"
   ]
  },
  {
   "cell_type": "code",
   "execution_count": 2,
   "metadata": {},
   "outputs": [],
   "source": [
    "from heuristic_problems import *\n",
    "from graph import *"
   ]
  },
  {
   "cell_type": "markdown",
   "metadata": {},
   "source": [
    "### Debugging: basics"
   ]
  },
  {
   "cell_type": "code",
   "execution_count": 23,
   "metadata": {},
   "outputs": [
    {
     "name": "stdout",
     "output_type": "stream",
     "text": [
      "WARNING: found self edges. They are removed.\n",
      "[[ 0  0  1  2  2  2  2  3  3  4  4  5  5  5  5  6  7  7  8  8  8  8  8  8\n",
      "   8  9  9  9  9 10 10 10 11 13 14 14 15 15 16 17 17 17 18 18 19 19 19 19\n",
      "  19]\n",
      " [ 6 17 19  3 13 14 16 15 16  3 19  2  3  8 10 14  0  6  2  4  7 10 14 16\n",
      "  18  6  7 11 15  0 11 13 13 16  7  9  6 13  5  2 11 14  1 14  6 10 11 13\n",
      "  16]]\n",
      "[0 0 0 0 0 0 0 0 0 0 0 0 1 0 0 0 0 0 0 0]\n",
      "{0: [7, 10], 1: [18], 2: [5, 8, 17], 3: [2, 4, 5], 4: [8], 5: [16], 6: [0, 7, 9, 15, 19], 7: [8, 9, 14], 8: [5], 9: [14], 10: [5, 8, 19], 11: [9, 10, 17, 19], 12: [], 13: [2, 10, 11, 15, 19], 14: [2, 6, 8, 17, 18], 15: [3, 9], 16: [2, 3, 8, 13, 19], 17: [0], 18: [8], 19: [1, 4]}\n",
      "{0: [6, 17], 1: [19], 2: [3, 13, 14, 16], 3: [15, 16], 4: [3, 19], 5: [2, 3, 8, 10], 6: [14], 7: [0, 6], 8: [2, 4, 7, 10, 14, 16, 18], 9: [6, 7, 11, 15], 10: [0, 11, 13], 11: [13], 12: [], 13: [16], 14: [7, 9], 15: [6, 13], 16: [5], 17: [2, 11, 14], 18: [1, 14], 19: [6, 10, 11, 13, 16]}\n"
     ]
    }
   ],
   "source": [
    "n_node=20\n",
    "n_edges=60\n",
    "_hash=np.random.choice(n_node**2,n_edges,replace=False)\n",
    "edges=np.zeros((n_edges,2),dtype=int)\n",
    "edges[:,0]=np.floor(_hash/n_node)\n",
    "edges[:,1]=_hash % n_node\n",
    "\n",
    "g=DirectedGraph(n_node, edges).reduced_graph()\n",
    "print(g.edges.T)\n",
    "print(g.scc_ind)\n",
    "\n",
    "print(g.parents_of)\n",
    "print(g.children_of)"
   ]
  },
  {
   "cell_type": "code",
   "execution_count": 24,
   "metadata": {},
   "outputs": [
    {
     "name": "stdout",
     "output_type": "stream",
     "text": [
      "[ 6 13 18  7 10  1  4  0 15  2 17 16 19  3  5 14  9 11  8 12]\n",
      "[ 7  5  9 13  6 14  0  3 18 16  4 17 19  1 15  8 11 10  2 12]\n",
      "28\n",
      "[ 0  4  7  8 11 12 14 17 18 19 20 21 22 23 24 25 26 28 31 32 34 36 37 39\n",
      " 44 45 47 48]\n"
     ]
    }
   ],
   "source": [
    "fas=MinimumFeedbackArc(g)\n",
    "print(fas.h)\n",
    "print(fas.h_of_node)\n",
    "print(fas.energy)\n",
    "print(fas.fas_ind)"
   ]
  },
  {
   "cell_type": "markdown",
   "metadata": {},
   "source": [
    "### Degugging step & energy change"
   ]
  },
  {
   "cell_type": "code",
   "execution_count": 27,
   "metadata": {},
   "outputs": [],
   "source": [
    "n_step=1000\n",
    "\n",
    "for i in range(n_step):\n",
    "    move_parent=bool(n_step % 2)\n",
    "    step=fas.propose_step(move_parent=move_parent)\n",
    "    #print(step)\n",
    "    fas.make_local_step(step)\n",
    "    \n",
    "    e_correct=fas.calculate_energy()\n",
    "    e_actual=fas.energy\n",
    "    \n",
    "    if e_correct!=e_actual:\n",
    "        print(\"e_correct=%d, e_actual=%d\" % (e_correct, e_actual))\n",
    "    "
   ]
  },
  {
   "cell_type": "markdown",
   "metadata": {},
   "source": [
    "### Algorithms"
   ]
  },
  {
   "cell_type": "markdown",
   "metadata": {},
   "source": [
    "Load graphs"
   ]
  },
  {
   "cell_type": "code",
   "execution_count": 43,
   "metadata": {},
   "outputs": [
    {
     "name": "stdout",
     "output_type": "stream",
     "text": [
      "[[ 15  16  17  18  19  20  21  22  23  24  25  26  29  31  33  34  35  37\n",
      "   38  39  40  43  44  47  48  49  50  59  60  61  65  90  95  98  99 122\n",
      "  122 122 122 122 122 122 122 122 123 123 123 123 123 123 123 123 123 123\n",
      "  123 123 123 123 123 123 123 123]\n",
      " [122 122 122 122 122 122 122 122 123 123 123 122 123 123  60 123 123 123\n",
      "  123 123 123 123 123 123 123 123 123  61  33  59  98 123  99  65  95  15\n",
      "   16  17  18  19  20  21  22  26  23  24  25  29  31  34  35  37  38  39\n",
      "   40  43  44  47  48  49  50  90]]\n",
      "2044\n"
     ]
    }
   ],
   "source": [
    "# load florida graph\n",
    "# i j: i goes into j's mouth\n",
    "n_node=128\n",
    "names=np.loadtxt(\"data/florida_names.txt\",dtype=str,delimiter=\"\\\"\")[:,1]\n",
    "edges=np.loadtxt(\"data/florida.txt\")[:,[0,1]].astype(int)-1\n",
    "g=DirectedGraph(n_node,edges,names=names)\n",
    "g,double=g.reduced_graph(return_double_edges=True)\n",
    "print(double.T)\n",
    "print(len(g.edges))\n"
   ]
  },
  {
   "cell_type": "code",
   "execution_count": null,
   "metadata": {},
   "outputs": [],
   "source": [
    "# load yeast graph\n",
    "# i j: "
   ]
  },
  {
   "cell_type": "markdown",
   "metadata": {},
   "source": [
    "Simulated annealing"
   ]
  },
  {
   "cell_type": "code",
   "execution_count": 115,
   "metadata": {},
   "outputs": [
    {
     "name": "stdout",
     "output_type": "stream",
     "text": [
      "t=10, beta=0.23026, e=9\n",
      "t=20, beta=0.29957, e=11\n",
      "t=30, beta=0.34012, e=7\n",
      "t=40, beta=0.36889, e=7\n",
      "t=50, beta=0.39120, e=8\n",
      "t=60, beta=0.40943, e=9\n",
      "t=70, beta=0.42485, e=8\n",
      "t=80, beta=0.43820, e=7\n",
      "t=90, beta=0.44998, e=9\n",
      "t=100, beta=0.46052, e=8\n",
      "6\n",
      "[125   7  23   1   8  10  13   6   4   0  24  34  25  47  38  39   5   3\n",
      "  12   2   9 124  14  15  41  16  19  18  40  37  32  20  17  22  42  45\n",
      "  44  21  31  26  70 118  27  90  30  29  36  35  48  43  66  92  94  74\n",
      "  73  49  71  72  58  50  64  11  68  67  28  46  33  96  80  83  93  61\n",
      "  62  63  95  99  82  56  88  57  81  51  84  97  98  53 121  65  89  87\n",
      "  69  79  76 119 115 105 113 106  77 109  59  78  85 100 102  75 103 117\n",
      "  55  60  54  91  86 104  52 120 116 110 107 114 112 108 111 101 122 123\n",
      " 127 126]\n"
     ]
    }
   ],
   "source": [
    "ts=np.arange(100,dtype=int)+1\n",
    "move_each_step=len(g.edges)\n",
    "betas=0.1*np.log(ts)\n",
    "inspect=10\n",
    "rejected=np.zeros(len(ts)+1,dtype=int)\n",
    "energies=np.zeros(len(ts)+1)\n",
    "\n",
    "fas=MinimumFeedbackArc(g)\n",
    "energies[0]=fas.energy\n",
    "\n",
    "min_energy=fas.energy\n",
    "min_h=fas.h.copy()\n",
    "min_h_of_node=fas.h_of_node.copy()\n",
    "min_fas_ind=fas.fas_ind.copy()\n",
    "\n",
    "for t,beta in zip(ts,betas):\n",
    "    if t % inspect==0:\n",
    "        print(\"t=%d, beta=%.5f, e=%d\" % (t,beta,fas.energy) )\n",
    "    for i in range(move_each_step):\n",
    "        move_parent=bool(i % 2)\n",
    "        step=fas.propose_step(move_parent=move_parent)\n",
    "        if (step.energy_change<0 or np.random.rand()<np.exp(-beta*step.energy_change)):\n",
    "            fas.make_local_step(step)\n",
    "        else:\n",
    "            rejected[t]+=1\n",
    "        if fas.energy<min_energy:\n",
    "            min_energy=fas.energy\n",
    "            min_h=fas.h.copy()\n",
    "            min_h_of_node=fas.h_of_node.copy()\n",
    "            min_fas_ind=fas.fas_ind.copy()\n",
    "    energies[t]=fas.energy\n",
    "\n",
    "print(min_energy)\n",
    "print(min_h)"
   ]
  },
  {
   "cell_type": "code",
   "execution_count": 116,
   "metadata": {},
   "outputs": [
    {
     "data": {
      "image/png": "[encoded data removed]",
      "text/plain": [
       "<Figure size 432x288 with 1 Axes>"
      ]
     },
     "metadata": {
      "needs_background": "light"
     },
     "output_type": "display_data"
    }
   ],
   "source": [
    "plt.figure()\n",
    "plt.plot(np.arange(len(energies)), energies)\n",
    "plt.show()"
   ]
  },
  {
   "cell_type": "markdown",
   "metadata": {},
   "source": [
    "Extremal optimization"
   ]
  },
  {
   "cell_type": "markdown",
   "metadata": {},
   "source": [
    "Receipe:\n",
    "\n",
    "1. Find energy of each node, i.e., # of edges pointing upwards\n",
    "2. Rank, pick a node\n",
    "3. Send the node to top of "
   ]
  },
  {
   "cell_type": "code",
   "execution_count": 178,
   "metadata": {},
   "outputs": [
    {
     "name": "stdout",
     "output_type": "stream",
     "text": [
      "tau=1.40000\n",
      "t=1000, e=346, min_e=17\n",
      "t=2000, e=23, min_e=10\n",
      "t=3000, e=280, min_e=7\n",
      "t=4000, e=174, min_e=7\n",
      "t=5000, e=24, min_e=7\n",
      "t=6000, e=42, min_e=7\n",
      "t=7000, e=26, min_e=6\n",
      "t=8000, e=343, min_e=6\n",
      "t=9000, e=43, min_e=6\n",
      "t=10000, e=232, min_e=6\n",
      "t=11000, e=38, min_e=6\n",
      "t=12000, e=221, min_e=6\n",
      "min_e=6\n"
     ]
    }
   ],
   "source": [
    "ts=np.arange(100*g.n_node,dtype=int)+1\n",
    "inspect=1000\n",
    "energies=np.zeros(len(ts)+1)\n",
    "\n",
    "fas=MinimumFeedbackArc(g)\n",
    "energies[0]=fas.energy\n",
    "\n",
    "tau=1.4\n",
    "print(\"tau=%.5f\" % tau)\n",
    "probs=(np.arange(len(fas.graph.edges))+1).astype(float)**(-tau)\n",
    "\n",
    "min_energy=fas.energy\n",
    "min_h=fas.h.copy()\n",
    "min_h_of_node=fas.h_of_node.copy()\n",
    "min_fas_ind=fas.fas_ind.copy()\n",
    "\n",
    "def normalize(arr):\n",
    "    return arr/np.sum(arr)\n",
    "\n",
    "def rankdata(arr,small_to_large=True):\n",
    "    if small_to_large:\n",
    "        return np.argsort(np.argsort(arr))\n",
    "    else:\n",
    "        return len(arr)-np.argsort(np.argsort(arr))-1\n",
    "\n",
    "for t in ts:\n",
    "    if t % inspect==0:\n",
    "        print(\"t=%d, e=%d, min_e=%d\" % (t,fas.energy,min_energy) )\n",
    "    fas_edges=fas.graph.edges[fas.fas_ind]\n",
    "    es=[fas.calculate_energy_change(p,c,move_parent=bool(t%2)) for p,c in fas_edges]\n",
    "    ranks=rankdata(es,small_to_large=True)\n",
    "    p,c=fas_edges[np.random.choice(len(fas_edges),p=normalize(probs[ranks]))]\n",
    "    \n",
    "    \n",
    "#     fas_children_of={}\n",
    "#     _={}\n",
    "#     for p,c in fas_edges:\n",
    "#         try:\n",
    "#             fas_children_of[p].append(c)\n",
    "#         except KeyError:\n",
    "#             fas_children_of[p]=[c]\n",
    "#     fas_children_h_rank={p:rankdata(fas_children_of[p],small_to_large=False) for p in fas_children_of}\n",
    "    \n",
    "#     _={p:{c:k for c,k in zip(fas_children_of[p],fas_children_h_rank[p])} for p in fas_children_of}\n",
    "#     ks=[_[p][c] for p,c in fas_edges]\n",
    "#     p,c=fas_edges[np.random.choice(len(fas_edges),p=normalize(probs[ks]))]\n",
    "\n",
    "#     nodes_candidates,es=np.unique(fas_edges[:,0], return_counts=True)  \n",
    "#     #print(nodes_candidates,es)\n",
    "#     _rank=len(nodes_candidates)-rankdata(es)-1 # large to small\n",
    "#     #print(_rank)\n",
    "#     p=np.random.choice(nodes_candidates,p=normalize(probs[_rank]))\n",
    "#     c=fas.graph.children_of[p][np.argmin(fas.h_of_node[fas.graph.children_of[p]])]\n",
    "#     # c=np.random.choice(fas_edges[fas_edges[:,0]==p][:,1])\n",
    "\n",
    "\n",
    "    step=MinimumFeedbackArc.FASStep(p,c,floor0=False,move_parent=True)\n",
    "    fas.make_local_step(step)\n",
    "    \n",
    "    if fas.energy<min_energy:\n",
    "        min_energy=fas.energy\n",
    "        min_h=fas.h.copy()\n",
    "        min_h_of_node=fas.h_of_node.copy()\n",
    "        min_fas_ind=fas.fas_ind.copy()\n",
    "    \n",
    "    fas_edges=fas.graph.edges[fas.fas_ind]\n",
    "    nodes_candidates,es=np.unique(fas_edges[:,1], return_counts=True)  \n",
    "    _rank=len(nodes_candidates)-rankdata(es)-1 # large to small\n",
    "    c=np.random.choice(nodes_candidates,p=normalize(probs[_rank]))\n",
    "    p=fas.graph.parents_of[c][np.argmax(fas.h_of_node[fas.graph.parents_of[c]])]\n",
    "    step=MinimumFeedbackArc.FASStep(p,c,floor0=False,move_parent=True)\n",
    "    fas.make_local_step(step)\n",
    "    \n",
    "#     e_correct=fas.calculate_energy()\n",
    "#     e_actual=fas.energy\n",
    "    \n",
    "#     if e_correct!=e_actual:\n",
    "#         print(\"e_correct=%d, e_actual=%d\" % (e_correct, e_actual))\n",
    "    \n",
    "    if fas.energy<min_energy:\n",
    "        min_energy=fas.energy\n",
    "        min_h=fas.h.copy()\n",
    "        min_h_of_node=fas.h_of_node.copy()\n",
    "        min_fas_ind=fas.fas_ind.copy()\n",
    "    energies[t]=fas.energy\n",
    "\n",
    "print(\"min_e=%d\" % min_energy)\n",
    "    \n"
   ]
  },
  {
   "cell_type": "code",
   "execution_count": 175,
   "metadata": {},
   "outputs": [
    {
     "data": {
      "image/png": "[encoded data removed]",
      "text/plain": [
       "<Figure size 432x288 with 1 Axes>"
      ]
     },
     "metadata": {
      "needs_background": "light"
     },
     "output_type": "display_data"
    }
   ],
   "source": [
    "plt.figure()\n",
    "plt.plot(np.arange(len(energies)), energies)\n",
    "plt.show()"
   ]
  },
  {
   "cell_type": "markdown",
   "metadata": {},
   "source": [
    "Visualize:"
   ]
  },
  {
   "cell_type": "code",
   "execution_count": 152,
   "metadata": {},
   "outputs": [
    {
     "data": {
      "image/png": "[encoded data removed]",
      "text/plain": [
       "<Figure size 576x576 with 1 Axes>"
      ]
     },
     "metadata": {
      "needs_background": "light"
     },
     "output_type": "display_data"
    }
   ],
   "source": [
    "from matplotlib.collections import LineCollection \n",
    "ys=fas.calculate_levels(min_fas_ind)\n",
    "xs=np.random.permutation(g.n_node)\n",
    "xy=np.array(list(zip(xs,ys)))\n",
    "\n",
    "plt.figure(figsize=(8,8))\n",
    "plt.scatter(xs,ys)\n",
    "\n",
    "ff_edge_ind=np.setdiff1d(np.arange(len(fas.graph.edges)),min_fas_ind)\n",
    "lines=LineCollection([xy[fas.graph.edges[ind]] for ind in ff_edge_ind],linewidth=1)\n",
    "ax = plt.gca()\n",
    "#ax.add_collection(lines)\n",
    "\n",
    "lines=LineCollection([xy[fas.graph.edges[ind]] for ind in min_fas_ind],linewidth=1,colors='red')\n",
    "ax.add_collection(lines)\n",
    "\n",
    "\n",
    "inds=np.unique(fas.graph.edges[min_fas_ind])\n",
    "for x,y,name in zip(xs[inds],ys[inds],names[inds]):\n",
    "    \n",
    "    plt.text(x,y,name)\n",
    "\n",
    "\n",
    "ax.autoscale()\n",
    "ax.margins(0.1)\n",
    "plt.show()\n"
   ]
  },
  {
   "cell_type": "markdown",
   "metadata": {},
   "source": [
    "### Debugging graph\n",
    "\n",
    "(Restrict to directed graph for this project)"
   ]
  },
  {
   "cell_type": "code",
   "execution_count": 32,
   "metadata": {},
   "outputs": [
    {
     "name": "stdout",
     "output_type": "stream",
     "text": [
      "[[9 9 5 6 4 0 6 2 4 2 4 1 1 4 3 2 8 9 6 5 7 5 0 3 3 3 5 6 1 1]\n",
      " [2 3 7 1 4 0 7 8 6 7 8 7 3 1 6 6 5 0 0 1 4 2 1 4 7 2 0 4 5 4]]\n"
     ]
    }
   ],
   "source": [
    "n_node=10\n",
    "n_edges=30\n",
    "_hash=np.random.choice(n_node**2,n_edges,replace=False)\n",
    "edges=np.zeros((n_edges,2),dtype=int)\n",
    "edges[:,0]=np.floor(_hash/n_node)\n",
    "edges[:,1]=_hash % n_node\n",
    "print(edges.T)"
   ]
  },
  {
   "cell_type": "code",
   "execution_count": 33,
   "metadata": {},
   "outputs": [
    {
     "name": "stdout",
     "output_type": "stream",
     "text": [
      "WARNING: found self edges. They are removed.\n"
     ]
    }
   ],
   "source": [
    "g=DirectedGraph(n_node, edges)"
   ]
  },
  {
   "cell_type": "code",
   "execution_count": 34,
   "metadata": {},
   "outputs": [
    {
     "name": "stdout",
     "output_type": "stream",
     "text": [
      "[[0 1 1 1 1 2 2 2 3 3 3 3 4 4 4 5 5 5 5 6 6 6 6 7 8 9 9 9]\n",
      " [1 3 4 5 7 6 7 8 2 4 6 7 1 6 8 0 1 2 7 0 1 4 7 4 5 0 2 3]]\n"
     ]
    }
   ],
   "source": [
    "print(g.edges.T)"
   ]
  },
  {
   "cell_type": "code",
   "execution_count": 35,
   "metadata": {},
   "outputs": [
    {
     "name": "stdout",
     "output_type": "stream",
     "text": [
      "[0 0 0 0 0 0 0 0 0 1]\n"
     ]
    }
   ],
   "source": [
    "print(g.scc_ind)"
   ]
  },
  {
   "cell_type": "code",
   "execution_count": 39,
   "metadata": {},
   "outputs": [
    {
     "name": "stdout",
     "output_type": "stream",
     "text": [
      "[[0 1 1 2 2 2 3 3 3 3 4 5 5 5 6 6 6 7 8 9 9 9]\n",
      " [1 3 7 6 7 8 2 4 6 7 8 0 2 7 0 1 7 4 5 0 2 3]]\n",
      "[0 0 0 0 0 0 0 0 0 1]\n"
     ]
    }
   ],
   "source": [
    "g_reduced=g.reduced_graph()\n",
    "\n",
    "print(g_reduced.edges.T)\n",
    "print(g_reduced.scc_ind)\n"
   ]
  },
  {
   "cell_type": "markdown",
   "metadata": {},
   "source": [
    "### Misc"
   ]
  },
  {
   "cell_type": "code",
   "execution_count": 7,
   "metadata": {},
   "outputs": [
    {
     "data": {
      "text/plain": [
       "True"
      ]
     },
     "execution_count": 7,
     "metadata": {},
     "output_type": "execute_result"
    }
   ],
   "source": [
    "bool()"
   ]
  },
  {
   "cell_type": "code",
   "execution_count": 148,
   "metadata": {},
   "outputs": [
    {
     "name": "stdout",
     "output_type": "stream",
     "text": [
      "[3 2 4 1 0]\n",
      "[1 2 0 3 4]\n"
     ]
    }
   ],
   "source": [
    "def rankdata(arr,small_to_large=True):\n",
    "    if small_to_large:\n",
    "        return np.argsort(np.argsort(arr))\n",
    "    else:\n",
    "        return len(arr)-np.argsort(np.argsort(arr))-1\n",
    "\n",
    "a=[4.5,3.5,8,1,0.4]\n",
    "print(rankdata(a))\n",
    "print(rankdata(a,small_to_large=False))\n"
   ]
  },
  {
   "cell_type": "code",
   "execution_count": 104,
   "metadata": {},
   "outputs": [
    {
     "data": {
      "text/plain": [
       "4"
      ]
     },
     "execution_count": 104,
     "metadata": {},
     "output_type": "execute_result"
    }
   ],
   "source": [
    "np.argmin(a)"
   ]
  },
  {
   "cell_type": "code",
   "execution_count": null,
   "metadata": {},
   "outputs": [],
   "source": []
  }
 ],
 "metadata": {
  "kernelspec": {
   "display_name": "Python 3",
   "language": "python",
   "name": "python3"
  },
  "language_info": {
   "codemirror_mode": {
    "name": "ipython",
    "version": 3
   },
   "file_extension": ".py",
   "mimetype": "text/x-python",
   "name": "python",
   "nbconvert_exporter": "python",
   "pygments_lexer": "ipython3",
   "version": "3.7.5"
  }
 },
 "nbformat": 4,
 "nbformat_minor": 4
}
